{
 "cells": [
  {
   "cell_type": "markdown",
   "metadata": {},
   "source": [
    "\n",
    "<img src=\"http://oci02.img.iteso.mx/identidad_de_instancia_2018/ITESO/Logos%20ITESO/Logo-ITESO-Principal.jpg\">"
   ]
  },
  {
   "cell_type": "markdown",
   "metadata": {},
   "source": [
    "<center><font color=#555555><font size=6> Ingeniería Financiera </font> <br> <br>\n",
    "\n",
    "<center><font color=#555555><font size=5> ITE1731 - Microestructura y Sistemas de Trading </font> <br> <br> <br>\n",
    "\n",
    "<center><font color=#555555><font size=5> Luz Clara Espinosa Collazo </font> <br> <br>\n",
    "<center><font color=#555555><font size=5> José Manuel Ochoa Cárdenas </font> <br> <br>\n",
    "   \n",
    "<center> <font color= #555555> <font size = 4> Noviembre 2020 </a> | <font color= #555555> <font size = 4> Repositorio: <a href='https://github.com/'>Link</a></font>"
   ]
  },
  {
   "cell_type": "markdown",
   "metadata": {},
   "source": [
    "<br>"
   ]
  },
  {
   "cell_type": "markdown",
   "metadata": {},
   "source": [
    "---"
   ]
  },
  {
   "cell_type": "markdown",
   "metadata": {},
   "source": [
    "<br>"
   ]
  },
  {
   "cell_type": "markdown",
   "metadata": {},
   "source": [
    "<br>"
   ]
  },
  {
   "cell_type": "markdown",
   "metadata": {},
   "source": [
    "<center> <font color= #555555> <font size = 7> Laboratorio 3\n",
    "    </font> <br> <br> <font color= #555555> <font size = 5> Inversión del Capital </font>"
   ]
  },
  {
   "cell_type": "markdown",
   "metadata": {},
   "source": [
    "# <font color= #555555> <font size = 5> Abstract </font>"
   ]
  },
  {
   "cell_type": "markdown",
   "metadata": {},
   "source": [
    "<font color= #6B6B6B> <font size = 2> Este documento fue elaborado por tu **nombre completo**, como un trabajo parcial para la materia de **Microestructura y Sistemas de Trading - ITE1731**, la cual es parte del curriculum de la licenciatura en Ingeniería Financiera, ofertada por la universidad **ITESO**. En el presente trabajo se plantea la respuesta a la siguiente pregutna: *¿Qué estrategia de inversión propondrías si tu trabajo fuera administrar 1 Millón de pesos?*</font> "
   ]
  },
  {
   "cell_type": "markdown",
   "metadata": {},
   "source": [
    "<br>"
   ]
  },
  {
   "cell_type": "markdown",
   "metadata": {},
   "source": [
    "# <font color= #6B6B6B> <font size = 6> 0. Librerías y Dependencias </font>"
   ]
  },
  {
   "cell_type": "markdown",
   "metadata": {},
   "source": [
    "<hr style=\"border:0.02in solid gray\"> </hr>"
   ]
  },
  {
   "cell_type": "markdown",
   "metadata": {},
   "source": [
    "# <font color= #6B6B6B> <font size = 5> 0.1 Librerías </font> <font color= #555555>"
   ]
  },
  {
   "cell_type": "markdown",
   "metadata": {},
   "source": [
    "Para correr este notebook es necesario tener instaladas y/o en el archivo _requirements.txt_ las siguientes librerías :"
   ]
  },
  {
   "cell_type": "markdown",
   "metadata": {},
   "source": [
    "- pandas>=1.1.1 \n",
    "- numpy>=1.19.1\n",
    "- jupyter>=1.0.0"
   ]
  },
  {
   "cell_type": "markdown",
   "metadata": {},
   "source": [
    "# <font color= #6B6B6B> <font size = 5> 0.2 Dependencias </font> <font color= #555555>"
   ]
  },
  {
   "cell_type": "markdown",
   "metadata": {},
   "source": [
    "Para correr este notebook es necesario contar con los siguientes archivos y dependencias externas:"
   ]
  },
  {
   "cell_type": "markdown",
   "metadata": {},
   "source": [
    "- files/precios.csv : Precios históricos\n",
    "- files/datos.txt : Otros datos históricos"
   ]
  },
  {
   "cell_type": "markdown",
   "metadata": {},
   "source": [
    "<br>"
   ]
  },
  {
   "cell_type": "markdown",
   "metadata": {},
   "source": [
    "# <font color= #6B6B6B> <font size = 6> 1. Introducción </font>"
   ]
  },
  {
   "cell_type": "markdown",
   "metadata": {},
   "source": [
    "<hr style=\"border:0.02in solid gray\"> </hr>\n",
    "\n",
    "Dia a día en el mundo de las inversiones, existen mil y un ofertas para colocar nuestros recursos económicos, sin embargo, como podemos estar seguros de que la persona a cargo es un guru de las finanzas o tal vez solamente un tipo con un curso de trading por internet, tampoco es debamos desconfiar de cualquier persona o institución, hay empresas e individuos que han dedicado una enorme cantidad de tiempo a formarse una reputación, pero al final, al final de todo, los que llevan a cabo la toma de decisiones en este mundo son humanos y como humanos inherentemente tienen sentimientos y prejucios parecidos a los de los demás, tampoco es que cualquier persona pueda dedicarse al trading claro está, pero si podemos evaluar y traer a la consciencia los sesgos de conducata más comunes que tienden a cometer los traders, para posteriormente generar estrategias que ayuden a contrarestarlos, pero al mismo tiempo por parte de los clientes poder evalaur a los gestores. "
   ]
  },
  {
   "cell_type": "markdown",
   "metadata": {},
   "source": []
  },
  {
   "cell_type": "markdown",
   "metadata": {},
   "source": [
    "<br>"
   ]
  },
  {
   "cell_type": "markdown",
   "metadata": {},
   "source": [
    "# <font color= #6B6B6B> <font size = 6> 2. Objetivos </font>"
   ]
  },
  {
   "cell_type": "markdown",
   "metadata": {},
   "source": [
    "<hr style=\"border:0.02in solid gray\"> </hr> Los objetivos para este laboratio consisten en elaborar herramientas para para el análisis del desempeño de la actividad de trading, desde el punto de vista de la cuenta y desde el punto de vista de la persona que opera la cuenta (trader). observar con perfecta claridad cuando es que se coemnten sesgos de conducta propios del beahvioral finance"
   ]
  },
  {
   "cell_type": "code",
   "execution_count": 26,
   "metadata": {},
   "outputs": [],
   "source": [
    "import data as dt\n",
    "import functions as fn"
   ]
  },
  {
   "cell_type": "markdown",
   "metadata": {},
   "source": [
    "<br>"
   ]
  },
  {
   "cell_type": "markdown",
   "metadata": {},
   "source": [
    "# <font color= #6B6B6B> <font size = 6> 3. Datos </font>"
   ]
  },
  {
   "cell_type": "markdown",
   "metadata": {},
   "source": [
    "<hr style=\"border:0.02in solid gray\"> </hr> "
   ]
  },
  {
   "cell_type": "code",
   "execution_count": 6,
   "metadata": {},
   "outputs": [
    {
     "data": {
      "text/html": [
       "<div>\n",
       "<style scoped>\n",
       "    .dataframe tbody tr th:only-of-type {\n",
       "        vertical-align: middle;\n",
       "    }\n",
       "\n",
       "    .dataframe tbody tr th {\n",
       "        vertical-align: top;\n",
       "    }\n",
       "\n",
       "    .dataframe thead th {\n",
       "        text-align: right;\n",
       "    }\n",
       "</style>\n",
       "<table border=\"1\" class=\"dataframe\">\n",
       "  <thead>\n",
       "    <tr style=\"text-align: right;\">\n",
       "      <th></th>\n",
       "      <th>Ticket</th>\n",
       "      <th>Open Time</th>\n",
       "      <th>Type</th>\n",
       "      <th>Size</th>\n",
       "      <th>Item</th>\n",
       "      <th>Price</th>\n",
       "      <th>S / L</th>\n",
       "      <th>T / P</th>\n",
       "      <th>Close Time</th>\n",
       "      <th>Close Price</th>\n",
       "      <th>Commission</th>\n",
       "      <th>Taxes</th>\n",
       "      <th>Swap</th>\n",
       "      <th>Profit</th>\n",
       "    </tr>\n",
       "  </thead>\n",
       "  <tbody>\n",
       "    <tr>\n",
       "      <th>0</th>\n",
       "      <td>226630482</td>\n",
       "      <td>2020.09.21 21:26:53</td>\n",
       "      <td>buy</td>\n",
       "      <td>0.1</td>\n",
       "      <td>eurusd</td>\n",
       "      <td>1.17542</td>\n",
       "      <td>1.1735</td>\n",
       "      <td>1.1825</td>\n",
       "      <td>2020.09.22 09:36:00</td>\n",
       "      <td>1.17350</td>\n",
       "      <td>0</td>\n",
       "      <td>0</td>\n",
       "      <td>0</td>\n",
       "      <td>-19.20</td>\n",
       "    </tr>\n",
       "    <tr>\n",
       "      <th>1</th>\n",
       "      <td>226671310</td>\n",
       "      <td>2020.09.22 20:42:06</td>\n",
       "      <td>sell</td>\n",
       "      <td>0.2</td>\n",
       "      <td>usdchf</td>\n",
       "      <td>0.91975</td>\n",
       "      <td>0.92313</td>\n",
       "      <td>0.91286</td>\n",
       "      <td>2020.09.23 17:13:54</td>\n",
       "      <td>0.92314</td>\n",
       "      <td>0</td>\n",
       "      <td>0</td>\n",
       "      <td>0</td>\n",
       "      <td>-73.82</td>\n",
       "    </tr>\n",
       "    <tr>\n",
       "      <th>2</th>\n",
       "      <td>226713764</td>\n",
       "      <td>2020.09.23 20:56:22</td>\n",
       "      <td>sell</td>\n",
       "      <td>0.1</td>\n",
       "      <td>usdjpy</td>\n",
       "      <td>105.34400</td>\n",
       "      <td>105.618</td>\n",
       "      <td>104.78</td>\n",
       "      <td>2020.09.24 18:44:49</td>\n",
       "      <td>105.47400</td>\n",
       "      <td>0</td>\n",
       "      <td>0</td>\n",
       "      <td>0</td>\n",
       "      <td>-12.39</td>\n",
       "    </tr>\n",
       "    <tr>\n",
       "      <th>3</th>\n",
       "      <td>226714883</td>\n",
       "      <td>2020.09.23 22:04:30</td>\n",
       "      <td>buy</td>\n",
       "      <td>0.2</td>\n",
       "      <td>usdchf</td>\n",
       "      <td>0.92420</td>\n",
       "      <td>0</td>\n",
       "      <td>0</td>\n",
       "      <td>2020.09.29 16:54:41</td>\n",
       "      <td>0.92030</td>\n",
       "      <td>0</td>\n",
       "      <td>0</td>\n",
       "      <td>0</td>\n",
       "      <td>-85.17</td>\n",
       "    </tr>\n",
       "    <tr>\n",
       "      <th>4</th>\n",
       "      <td>226754160</td>\n",
       "      <td>2020.09.24 18:37:47</td>\n",
       "      <td>sell</td>\n",
       "      <td>0.1</td>\n",
       "      <td>audusd</td>\n",
       "      <td>0.70347</td>\n",
       "      <td>0.70647</td>\n",
       "      <td>0.69755</td>\n",
       "      <td>2020.09.24 20:16:09</td>\n",
       "      <td>0.70648</td>\n",
       "      <td>0</td>\n",
       "      <td>0</td>\n",
       "      <td>0</td>\n",
       "      <td>-30.10</td>\n",
       "    </tr>\n",
       "  </tbody>\n",
       "</table>\n",
       "</div>"
      ],
      "text/plain": [
       "      Ticket            Open Time  Type Size    Item      Price    S / L  \\\n",
       "0  226630482  2020.09.21 21:26:53   buy  0.1  eurusd    1.17542   1.1735   \n",
       "1  226671310  2020.09.22 20:42:06  sell  0.2  usdchf    0.91975  0.92313   \n",
       "2  226713764  2020.09.23 20:56:22  sell  0.1  usdjpy  105.34400  105.618   \n",
       "3  226714883  2020.09.23 22:04:30   buy  0.2  usdchf    0.92420        0   \n",
       "4  226754160  2020.09.24 18:37:47  sell  0.1  audusd    0.70347  0.70647   \n",
       "\n",
       "     T / P           Close Time  Close Price Commission Taxes Swap  Profit  \n",
       "0   1.1825  2020.09.22 09:36:00      1.17350          0     0    0  -19.20  \n",
       "1  0.91286  2020.09.23 17:13:54      0.92314          0     0    0  -73.82  \n",
       "2   104.78  2020.09.24 18:44:49    105.47400          0     0    0  -12.39  \n",
       "3        0  2020.09.29 16:54:41      0.92030          0     0    0  -85.17  \n",
       "4  0.69755  2020.09.24 20:16:09      0.70648          0     0    0  -30.10  "
      ]
     },
     "execution_count": 6,
     "metadata": {},
     "output_type": "execute_result"
    }
   ],
   "source": [
    "dt.archivo.head()"
   ]
  },
  {
   "cell_type": "markdown",
   "metadata": {},
   "source": []
  },
  {
   "cell_type": "code",
   "execution_count": 1,
   "metadata": {},
   "outputs": [],
   "source": [
    "# En esta sección es opcional incluir código para mostrar/visualizar\n",
    "# los datos con los que se trabajó en el laboratorio"
   ]
  },
  {
   "cell_type": "markdown",
   "metadata": {},
   "source": [
    "<br>"
   ]
  },
  {
   "cell_type": "markdown",
   "metadata": {},
   "source": [
    "# <font color= #6B6B6B> <font size = 6> 4. Procesos </font>"
   ]
  },
  {
   "cell_type": "markdown",
   "metadata": {},
   "source": [
    "<hr style=\"border:0.02in solid gray\"> </hr>"
   ]
  },
  {
   "cell_type": "markdown",
   "metadata": {},
   "source": [
    "### Lo primero que realizamos fue una funación para poder determinar el multiplicador de cada instrumento para obtener la información de los pips ganados o perdidos posteriormente"
   ]
  },
  {
   "cell_type": "code",
   "execution_count": 7,
   "metadata": {},
   "outputs": [
    {
     "data": {
      "text/plain": [
       "100"
      ]
     },
     "execution_count": 7,
     "metadata": {},
     "output_type": "execute_result"
    }
   ],
   "source": [
    "fn.f_pip_size('xauusd')"
   ]
  },
  {
   "cell_type": "markdown",
   "metadata": {},
   "source": [
    "### Se ha añadido una nueva columna al archivo, que contiene la información sobre los trades, donde está el tiempo que permaneció abierta cada operación"
   ]
  },
  {
   "cell_type": "code",
   "execution_count": 10,
   "metadata": {},
   "outputs": [
    {
     "data": {
      "text/html": [
       "<div>\n",
       "<style scoped>\n",
       "    .dataframe tbody tr th:only-of-type {\n",
       "        vertical-align: middle;\n",
       "    }\n",
       "\n",
       "    .dataframe tbody tr th {\n",
       "        vertical-align: top;\n",
       "    }\n",
       "\n",
       "    .dataframe thead th {\n",
       "        text-align: right;\n",
       "    }\n",
       "</style>\n",
       "<table border=\"1\" class=\"dataframe\">\n",
       "  <thead>\n",
       "    <tr style=\"text-align: right;\">\n",
       "      <th></th>\n",
       "      <th>Ticket</th>\n",
       "      <th>Open Time</th>\n",
       "      <th>Type</th>\n",
       "      <th>Size</th>\n",
       "      <th>Item</th>\n",
       "      <th>Price</th>\n",
       "      <th>S / L</th>\n",
       "      <th>T / P</th>\n",
       "      <th>Close Time</th>\n",
       "      <th>Close Price</th>\n",
       "      <th>Commission</th>\n",
       "      <th>Taxes</th>\n",
       "      <th>Swap</th>\n",
       "      <th>Profit</th>\n",
       "      <th>Tiempo</th>\n",
       "    </tr>\n",
       "  </thead>\n",
       "  <tbody>\n",
       "    <tr>\n",
       "      <th>0</th>\n",
       "      <td>226630482</td>\n",
       "      <td>2020.09.21 21:26:53</td>\n",
       "      <td>buy</td>\n",
       "      <td>0.1</td>\n",
       "      <td>eurusd</td>\n",
       "      <td>1.17542</td>\n",
       "      <td>1.1735</td>\n",
       "      <td>1.1825</td>\n",
       "      <td>2020.09.22 09:36:00</td>\n",
       "      <td>1.17350</td>\n",
       "      <td>0</td>\n",
       "      <td>0</td>\n",
       "      <td>0</td>\n",
       "      <td>-19.20</td>\n",
       "      <td>43747.0</td>\n",
       "    </tr>\n",
       "    <tr>\n",
       "      <th>1</th>\n",
       "      <td>226671310</td>\n",
       "      <td>2020.09.22 20:42:06</td>\n",
       "      <td>sell</td>\n",
       "      <td>0.2</td>\n",
       "      <td>usdchf</td>\n",
       "      <td>0.91975</td>\n",
       "      <td>0.92313</td>\n",
       "      <td>0.91286</td>\n",
       "      <td>2020.09.23 17:13:54</td>\n",
       "      <td>0.92314</td>\n",
       "      <td>0</td>\n",
       "      <td>0</td>\n",
       "      <td>0</td>\n",
       "      <td>-73.82</td>\n",
       "      <td>73908.0</td>\n",
       "    </tr>\n",
       "    <tr>\n",
       "      <th>2</th>\n",
       "      <td>226713764</td>\n",
       "      <td>2020.09.23 20:56:22</td>\n",
       "      <td>sell</td>\n",
       "      <td>0.1</td>\n",
       "      <td>usdjpy</td>\n",
       "      <td>105.34400</td>\n",
       "      <td>105.618</td>\n",
       "      <td>104.78</td>\n",
       "      <td>2020.09.24 18:44:49</td>\n",
       "      <td>105.47400</td>\n",
       "      <td>0</td>\n",
       "      <td>0</td>\n",
       "      <td>0</td>\n",
       "      <td>-12.39</td>\n",
       "      <td>78507.0</td>\n",
       "    </tr>\n",
       "    <tr>\n",
       "      <th>3</th>\n",
       "      <td>226714883</td>\n",
       "      <td>2020.09.23 22:04:30</td>\n",
       "      <td>buy</td>\n",
       "      <td>0.2</td>\n",
       "      <td>usdchf</td>\n",
       "      <td>0.92420</td>\n",
       "      <td>0</td>\n",
       "      <td>0</td>\n",
       "      <td>2020.09.29 16:54:41</td>\n",
       "      <td>0.92030</td>\n",
       "      <td>0</td>\n",
       "      <td>0</td>\n",
       "      <td>0</td>\n",
       "      <td>-85.17</td>\n",
       "      <td>499811.0</td>\n",
       "    </tr>\n",
       "    <tr>\n",
       "      <th>4</th>\n",
       "      <td>226754160</td>\n",
       "      <td>2020.09.24 18:37:47</td>\n",
       "      <td>sell</td>\n",
       "      <td>0.1</td>\n",
       "      <td>audusd</td>\n",
       "      <td>0.70347</td>\n",
       "      <td>0.70647</td>\n",
       "      <td>0.69755</td>\n",
       "      <td>2020.09.24 20:16:09</td>\n",
       "      <td>0.70648</td>\n",
       "      <td>0</td>\n",
       "      <td>0</td>\n",
       "      <td>0</td>\n",
       "      <td>-30.10</td>\n",
       "      <td>5902.0</td>\n",
       "    </tr>\n",
       "  </tbody>\n",
       "</table>\n",
       "</div>"
      ],
      "text/plain": [
       "      Ticket            Open Time  Type Size    Item      Price    S / L  \\\n",
       "0  226630482  2020.09.21 21:26:53   buy  0.1  eurusd    1.17542   1.1735   \n",
       "1  226671310  2020.09.22 20:42:06  sell  0.2  usdchf    0.91975  0.92313   \n",
       "2  226713764  2020.09.23 20:56:22  sell  0.1  usdjpy  105.34400  105.618   \n",
       "3  226714883  2020.09.23 22:04:30   buy  0.2  usdchf    0.92420        0   \n",
       "4  226754160  2020.09.24 18:37:47  sell  0.1  audusd    0.70347  0.70647   \n",
       "\n",
       "     T / P           Close Time  Close Price Commission Taxes Swap  Profit  \\\n",
       "0   1.1825  2020.09.22 09:36:00      1.17350          0     0    0  -19.20   \n",
       "1  0.91286  2020.09.23 17:13:54      0.92314          0     0    0  -73.82   \n",
       "2   104.78  2020.09.24 18:44:49    105.47400          0     0    0  -12.39   \n",
       "3        0  2020.09.29 16:54:41      0.92030          0     0    0  -85.17   \n",
       "4  0.69755  2020.09.24 20:16:09      0.70648          0     0    0  -30.10   \n",
       "\n",
       "     Tiempo  \n",
       "0   43747.0  \n",
       "1   73908.0  \n",
       "2   78507.0  \n",
       "3  499811.0  \n",
       "4    5902.0  "
      ]
     },
     "execution_count": 10,
     "metadata": {},
     "output_type": "execute_result"
    }
   ],
   "source": [
    "tiempos = fn.f_columnas_tiempos(dt.archivo)\n",
    "tiempos.head()"
   ]
  },
  {
   "cell_type": "markdown",
   "metadata": {},
   "source": [
    "### después se obtuvieron las columnas de pips, pips_acum y profit_acum "
   ]
  },
  {
   "cell_type": "code",
   "execution_count": 12,
   "metadata": {},
   "outputs": [
    {
     "data": {
      "text/html": [
       "<div>\n",
       "<style scoped>\n",
       "    .dataframe tbody tr th:only-of-type {\n",
       "        vertical-align: middle;\n",
       "    }\n",
       "\n",
       "    .dataframe tbody tr th {\n",
       "        vertical-align: top;\n",
       "    }\n",
       "\n",
       "    .dataframe thead th {\n",
       "        text-align: right;\n",
       "    }\n",
       "</style>\n",
       "<table border=\"1\" class=\"dataframe\">\n",
       "  <thead>\n",
       "    <tr style=\"text-align: right;\">\n",
       "      <th></th>\n",
       "      <th>Ticket</th>\n",
       "      <th>Open Time</th>\n",
       "      <th>Type</th>\n",
       "      <th>Size</th>\n",
       "      <th>Item</th>\n",
       "      <th>Price</th>\n",
       "      <th>S / L</th>\n",
       "      <th>T / P</th>\n",
       "      <th>Close Time</th>\n",
       "      <th>Close Price</th>\n",
       "      <th>Commission</th>\n",
       "      <th>Taxes</th>\n",
       "      <th>Swap</th>\n",
       "      <th>Profit</th>\n",
       "      <th>Tiempo</th>\n",
       "      <th>pips</th>\n",
       "      <th>pips_acum</th>\n",
       "      <th>profit_acum</th>\n",
       "    </tr>\n",
       "  </thead>\n",
       "  <tbody>\n",
       "    <tr>\n",
       "      <th>0</th>\n",
       "      <td>226630482</td>\n",
       "      <td>2020.09.21 21:26:53</td>\n",
       "      <td>buy</td>\n",
       "      <td>0.1</td>\n",
       "      <td>eurusd</td>\n",
       "      <td>1.17542</td>\n",
       "      <td>1.1735</td>\n",
       "      <td>1.1825</td>\n",
       "      <td>2020.09.22 09:36:00</td>\n",
       "      <td>1.17350</td>\n",
       "      <td>0</td>\n",
       "      <td>0</td>\n",
       "      <td>0</td>\n",
       "      <td>-19.20</td>\n",
       "      <td>43747.0</td>\n",
       "      <td>-19.2</td>\n",
       "      <td>-19.2</td>\n",
       "      <td>-19.20</td>\n",
       "    </tr>\n",
       "    <tr>\n",
       "      <th>1</th>\n",
       "      <td>226671310</td>\n",
       "      <td>2020.09.22 20:42:06</td>\n",
       "      <td>sell</td>\n",
       "      <td>0.2</td>\n",
       "      <td>usdchf</td>\n",
       "      <td>0.91975</td>\n",
       "      <td>0.92313</td>\n",
       "      <td>0.91286</td>\n",
       "      <td>2020.09.23 17:13:54</td>\n",
       "      <td>0.92314</td>\n",
       "      <td>0</td>\n",
       "      <td>0</td>\n",
       "      <td>0</td>\n",
       "      <td>-73.82</td>\n",
       "      <td>73908.0</td>\n",
       "      <td>-33.9</td>\n",
       "      <td>-53.1</td>\n",
       "      <td>-93.02</td>\n",
       "    </tr>\n",
       "    <tr>\n",
       "      <th>2</th>\n",
       "      <td>226713764</td>\n",
       "      <td>2020.09.23 20:56:22</td>\n",
       "      <td>sell</td>\n",
       "      <td>0.1</td>\n",
       "      <td>usdjpy</td>\n",
       "      <td>105.34400</td>\n",
       "      <td>105.618</td>\n",
       "      <td>104.78</td>\n",
       "      <td>2020.09.24 18:44:49</td>\n",
       "      <td>105.47400</td>\n",
       "      <td>0</td>\n",
       "      <td>0</td>\n",
       "      <td>0</td>\n",
       "      <td>-12.39</td>\n",
       "      <td>78507.0</td>\n",
       "      <td>-13.0</td>\n",
       "      <td>-66.1</td>\n",
       "      <td>-105.41</td>\n",
       "    </tr>\n",
       "    <tr>\n",
       "      <th>3</th>\n",
       "      <td>226714883</td>\n",
       "      <td>2020.09.23 22:04:30</td>\n",
       "      <td>buy</td>\n",
       "      <td>0.2</td>\n",
       "      <td>usdchf</td>\n",
       "      <td>0.92420</td>\n",
       "      <td>0</td>\n",
       "      <td>0</td>\n",
       "      <td>2020.09.29 16:54:41</td>\n",
       "      <td>0.92030</td>\n",
       "      <td>0</td>\n",
       "      <td>0</td>\n",
       "      <td>0</td>\n",
       "      <td>-85.17</td>\n",
       "      <td>499811.0</td>\n",
       "      <td>-39.0</td>\n",
       "      <td>-105.1</td>\n",
       "      <td>-190.58</td>\n",
       "    </tr>\n",
       "    <tr>\n",
       "      <th>4</th>\n",
       "      <td>226754160</td>\n",
       "      <td>2020.09.24 18:37:47</td>\n",
       "      <td>sell</td>\n",
       "      <td>0.1</td>\n",
       "      <td>audusd</td>\n",
       "      <td>0.70347</td>\n",
       "      <td>0.70647</td>\n",
       "      <td>0.69755</td>\n",
       "      <td>2020.09.24 20:16:09</td>\n",
       "      <td>0.70648</td>\n",
       "      <td>0</td>\n",
       "      <td>0</td>\n",
       "      <td>0</td>\n",
       "      <td>-30.10</td>\n",
       "      <td>5902.0</td>\n",
       "      <td>-30.1</td>\n",
       "      <td>-135.2</td>\n",
       "      <td>-220.68</td>\n",
       "    </tr>\n",
       "  </tbody>\n",
       "</table>\n",
       "</div>"
      ],
      "text/plain": [
       "      Ticket            Open Time  Type Size    Item      Price    S / L  \\\n",
       "0  226630482  2020.09.21 21:26:53   buy  0.1  eurusd    1.17542   1.1735   \n",
       "1  226671310  2020.09.22 20:42:06  sell  0.2  usdchf    0.91975  0.92313   \n",
       "2  226713764  2020.09.23 20:56:22  sell  0.1  usdjpy  105.34400  105.618   \n",
       "3  226714883  2020.09.23 22:04:30   buy  0.2  usdchf    0.92420        0   \n",
       "4  226754160  2020.09.24 18:37:47  sell  0.1  audusd    0.70347  0.70647   \n",
       "\n",
       "     T / P           Close Time  Close Price Commission Taxes Swap  Profit  \\\n",
       "0   1.1825  2020.09.22 09:36:00      1.17350          0     0    0  -19.20   \n",
       "1  0.91286  2020.09.23 17:13:54      0.92314          0     0    0  -73.82   \n",
       "2   104.78  2020.09.24 18:44:49    105.47400          0     0    0  -12.39   \n",
       "3        0  2020.09.29 16:54:41      0.92030          0     0    0  -85.17   \n",
       "4  0.69755  2020.09.24 20:16:09      0.70648          0     0    0  -30.10   \n",
       "\n",
       "     Tiempo  pips  pips_acum  profit_acum  \n",
       "0   43747.0 -19.2      -19.2       -19.20  \n",
       "1   73908.0 -33.9      -53.1       -93.02  \n",
       "2   78507.0 -13.0      -66.1      -105.41  \n",
       "3  499811.0 -39.0     -105.1      -190.58  \n",
       "4    5902.0 -30.1     -135.2      -220.68  "
      ]
     },
     "execution_count": 12,
     "metadata": {},
     "output_type": "execute_result"
    }
   ],
   "source": [
    "pips = fn.f_columnas_pips(tiempos)\n",
    "pips.head()"
   ]
  },
  {
   "cell_type": "markdown",
   "metadata": {},
   "source": [
    "### Posteriormente se obtuvo un diccionario con información estadística básica en la primera llave y un ranking por instrumento en la segunda"
   ]
  },
  {
   "cell_type": "code",
   "execution_count": 21,
   "metadata": {},
   "outputs": [
    {
     "data": {
      "text/html": [
       "<div>\n",
       "<style scoped>\n",
       "    .dataframe tbody tr th:only-of-type {\n",
       "        vertical-align: middle;\n",
       "    }\n",
       "\n",
       "    .dataframe tbody tr th {\n",
       "        vertical-align: top;\n",
       "    }\n",
       "\n",
       "    .dataframe thead th {\n",
       "        text-align: right;\n",
       "    }\n",
       "</style>\n",
       "<table border=\"1\" class=\"dataframe\">\n",
       "  <thead>\n",
       "    <tr style=\"text-align: right;\">\n",
       "      <th></th>\n",
       "      <th>medida</th>\n",
       "      <th>valor</th>\n",
       "      <th>descripcion</th>\n",
       "    </tr>\n",
       "  </thead>\n",
       "  <tbody>\n",
       "    <tr>\n",
       "      <th>0</th>\n",
       "      <td>Ops totales</td>\n",
       "      <td>15.000000</td>\n",
       "      <td>Operaciones totales</td>\n",
       "    </tr>\n",
       "    <tr>\n",
       "      <th>1</th>\n",
       "      <td>Ganadoras</td>\n",
       "      <td>7.000000</td>\n",
       "      <td>Operaciones ganadoras</td>\n",
       "    </tr>\n",
       "    <tr>\n",
       "      <th>2</th>\n",
       "      <td>Ganadoras_c</td>\n",
       "      <td>6.000000</td>\n",
       "      <td>Operaciones ganadoras de compra</td>\n",
       "    </tr>\n",
       "    <tr>\n",
       "      <th>3</th>\n",
       "      <td>Ganadoras_v</td>\n",
       "      <td>1.000000</td>\n",
       "      <td>Operaciones ganadoras de venta</td>\n",
       "    </tr>\n",
       "    <tr>\n",
       "      <th>4</th>\n",
       "      <td>Perdedoras</td>\n",
       "      <td>8.000000</td>\n",
       "      <td>Operaciones perdedoras</td>\n",
       "    </tr>\n",
       "    <tr>\n",
       "      <th>5</th>\n",
       "      <td>Perdedoras_c</td>\n",
       "      <td>2.000000</td>\n",
       "      <td>Operaciones perdedoras de compra</td>\n",
       "    </tr>\n",
       "    <tr>\n",
       "      <th>6</th>\n",
       "      <td>Perdedoras_v</td>\n",
       "      <td>6.000000</td>\n",
       "      <td>Operaciones perdedoras de venta</td>\n",
       "    </tr>\n",
       "    <tr>\n",
       "      <th>7</th>\n",
       "      <td>Mediana (Profit)</td>\n",
       "      <td>-12.390000</td>\n",
       "      <td>Mediana de profit de operaciones</td>\n",
       "    </tr>\n",
       "    <tr>\n",
       "      <th>8</th>\n",
       "      <td>Mediana (Pips)</td>\n",
       "      <td>-13.000000</td>\n",
       "      <td>Mediana de pips de operaciones</td>\n",
       "    </tr>\n",
       "    <tr>\n",
       "      <th>9</th>\n",
       "      <td>r_efectividad</td>\n",
       "      <td>0.466667</td>\n",
       "      <td>Ganadoras Totales/Operaciones Totales</td>\n",
       "    </tr>\n",
       "    <tr>\n",
       "      <th>10</th>\n",
       "      <td>r_proporcion</td>\n",
       "      <td>0.875000</td>\n",
       "      <td>Ganadoras Totales/Perdedoras Totales</td>\n",
       "    </tr>\n",
       "    <tr>\n",
       "      <th>11</th>\n",
       "      <td>r_efectividad_c</td>\n",
       "      <td>0.400000</td>\n",
       "      <td>Ganadoras Compras/Operaciones Totales</td>\n",
       "    </tr>\n",
       "    <tr>\n",
       "      <th>12</th>\n",
       "      <td>r_efectividad_v</td>\n",
       "      <td>0.066667</td>\n",
       "      <td>Ganadoras Ventas/Operaciones Totales</td>\n",
       "    </tr>\n",
       "  </tbody>\n",
       "</table>\n",
       "</div>"
      ],
      "text/plain": [
       "              medida      valor                            descripcion\n",
       "0        Ops totales  15.000000                    Operaciones totales\n",
       "1          Ganadoras   7.000000                  Operaciones ganadoras\n",
       "2        Ganadoras_c   6.000000        Operaciones ganadoras de compra\n",
       "3        Ganadoras_v   1.000000         Operaciones ganadoras de venta\n",
       "4         Perdedoras   8.000000                 Operaciones perdedoras\n",
       "5       Perdedoras_c   2.000000       Operaciones perdedoras de compra\n",
       "6       Perdedoras_v   6.000000        Operaciones perdedoras de venta\n",
       "7   Mediana (Profit) -12.390000       Mediana de profit de operaciones\n",
       "8     Mediana (Pips) -13.000000         Mediana de pips de operaciones\n",
       "9      r_efectividad   0.466667  Ganadoras Totales/Operaciones Totales\n",
       "10      r_proporcion   0.875000   Ganadoras Totales/Perdedoras Totales\n",
       "11   r_efectividad_c   0.400000  Ganadoras Compras/Operaciones Totales\n",
       "12   r_efectividad_v   0.066667   Ganadoras Ventas/Operaciones Totales"
      ]
     },
     "execution_count": 21,
     "metadata": {},
     "output_type": "execute_result"
    }
   ],
   "source": [
    "diccionario = fn.f_estadisticas_ba(dt.archivo)\n",
    "diccionario['df_1_tabla']"
   ]
  },
  {
   "cell_type": "code",
   "execution_count": 22,
   "metadata": {},
   "outputs": [
    {
     "data": {
      "text/html": [
       "<div>\n",
       "<style scoped>\n",
       "    .dataframe tbody tr th:only-of-type {\n",
       "        vertical-align: middle;\n",
       "    }\n",
       "\n",
       "    .dataframe tbody tr th {\n",
       "        vertical-align: top;\n",
       "    }\n",
       "\n",
       "    .dataframe thead th {\n",
       "        text-align: right;\n",
       "    }\n",
       "</style>\n",
       "<table border=\"1\" class=\"dataframe\">\n",
       "  <thead>\n",
       "    <tr style=\"text-align: right;\">\n",
       "      <th></th>\n",
       "      <th>symbol</th>\n",
       "      <th>rank</th>\n",
       "    </tr>\n",
       "  </thead>\n",
       "  <tbody>\n",
       "    <tr>\n",
       "      <th>4</th>\n",
       "      <td>usdmxn</td>\n",
       "      <td>1.0</td>\n",
       "    </tr>\n",
       "    <tr>\n",
       "      <th>5</th>\n",
       "      <td>wtico</td>\n",
       "      <td>1.0</td>\n",
       "    </tr>\n",
       "    <tr>\n",
       "      <th>0</th>\n",
       "      <td>audusd</td>\n",
       "      <td>0.5</td>\n",
       "    </tr>\n",
       "    <tr>\n",
       "      <th>1</th>\n",
       "      <td>eurusd</td>\n",
       "      <td>0.5</td>\n",
       "    </tr>\n",
       "    <tr>\n",
       "      <th>6</th>\n",
       "      <td>xauusd</td>\n",
       "      <td>0.5</td>\n",
       "    </tr>\n",
       "    <tr>\n",
       "      <th>2</th>\n",
       "      <td>usdchf</td>\n",
       "      <td>0.0</td>\n",
       "    </tr>\n",
       "    <tr>\n",
       "      <th>3</th>\n",
       "      <td>usdjpy</td>\n",
       "      <td>0.0</td>\n",
       "    </tr>\n",
       "  </tbody>\n",
       "</table>\n",
       "</div>"
      ],
      "text/plain": [
       "   symbol  rank\n",
       "4  usdmxn   1.0\n",
       "5   wtico   1.0\n",
       "0  audusd   0.5\n",
       "1  eurusd   0.5\n",
       "6  xauusd   0.5\n",
       "2  usdchf   0.0\n",
       "3  usdjpy   0.0"
      ]
     },
     "execution_count": 22,
     "metadata": {},
     "output_type": "execute_result"
    }
   ],
   "source": [
    "diccionario['df_2_ranking']"
   ]
  },
  {
   "cell_type": "code",
   "execution_count": 27,
   "metadata": {},
   "outputs": [
    {
     "data": {
      "text/html": [
       "<div>\n",
       "<style scoped>\n",
       "    .dataframe tbody tr th:only-of-type {\n",
       "        vertical-align: middle;\n",
       "    }\n",
       "\n",
       "    .dataframe tbody tr th {\n",
       "        vertical-align: top;\n",
       "    }\n",
       "\n",
       "    .dataframe thead th {\n",
       "        text-align: right;\n",
       "    }\n",
       "</style>\n",
       "<table border=\"1\" class=\"dataframe\">\n",
       "  <thead>\n",
       "    <tr style=\"text-align: right;\">\n",
       "      <th></th>\n",
       "      <th>timestamp</th>\n",
       "      <th>profit_d</th>\n",
       "      <th>profit_acm_d</th>\n",
       "    </tr>\n",
       "  </thead>\n",
       "  <tbody>\n",
       "    <tr>\n",
       "      <th>0</th>\n",
       "      <td>2020-09-21</td>\n",
       "      <td>-19.20</td>\n",
       "      <td>100019.20</td>\n",
       "    </tr>\n",
       "    <tr>\n",
       "      <th>1</th>\n",
       "      <td>2020-09-22</td>\n",
       "      <td>-73.82</td>\n",
       "      <td>100093.02</td>\n",
       "    </tr>\n",
       "    <tr>\n",
       "      <th>2</th>\n",
       "      <td>2020-09-23</td>\n",
       "      <td>-97.56</td>\n",
       "      <td>100190.58</td>\n",
       "    </tr>\n",
       "    <tr>\n",
       "      <th>3</th>\n",
       "      <td>2020-09-24</td>\n",
       "      <td>-30.10</td>\n",
       "      <td>100220.68</td>\n",
       "    </tr>\n",
       "    <tr>\n",
       "      <th>4</th>\n",
       "      <td>2020-09-25</td>\n",
       "      <td>-1641.00</td>\n",
       "      <td>101861.68</td>\n",
       "    </tr>\n",
       "    <tr>\n",
       "      <th>5</th>\n",
       "      <td>2020-09-28</td>\n",
       "      <td>1332.60</td>\n",
       "      <td>100529.08</td>\n",
       "    </tr>\n",
       "    <tr>\n",
       "      <th>6</th>\n",
       "      <td>2020-09-29</td>\n",
       "      <td>66.20</td>\n",
       "      <td>100462.88</td>\n",
       "    </tr>\n",
       "    <tr>\n",
       "      <th>7</th>\n",
       "      <td>2020-09-30</td>\n",
       "      <td>-45.60</td>\n",
       "      <td>100508.48</td>\n",
       "    </tr>\n",
       "    <tr>\n",
       "      <th>8</th>\n",
       "      <td>2020-10-01</td>\n",
       "      <td>950.90</td>\n",
       "      <td>99557.58</td>\n",
       "    </tr>\n",
       "    <tr>\n",
       "      <th>9</th>\n",
       "      <td>2020-10-02</td>\n",
       "      <td>6701.45</td>\n",
       "      <td>92856.13</td>\n",
       "    </tr>\n",
       "  </tbody>\n",
       "</table>\n",
       "</div>"
      ],
      "text/plain": [
       "    timestamp  profit_d  profit_acm_d\n",
       "0  2020-09-21    -19.20     100019.20\n",
       "1  2020-09-22    -73.82     100093.02\n",
       "2  2020-09-23    -97.56     100190.58\n",
       "3  2020-09-24    -30.10     100220.68\n",
       "4  2020-09-25  -1641.00     101861.68\n",
       "5  2020-09-28   1332.60     100529.08\n",
       "6  2020-09-29     66.20     100462.88\n",
       "7  2020-09-30    -45.60     100508.48\n",
       "8  2020-10-01    950.90      99557.58\n",
       "9  2020-10-02   6701.45      92856.13"
      ]
     },
     "execution_count": 27,
     "metadata": {},
     "output_type": "execute_result"
    }
   ],
   "source": [
    "evolucion_capital = fn.f_evolucion_capital(dt.archivo)\n",
    "evolucion_capital"
   ]
  },
  {
   "cell_type": "markdown",
   "metadata": {},
   "source": []
  },
  {
   "cell_type": "code",
   "execution_count": 2,
   "metadata": {},
   "outputs": [],
   "source": [
    "# aqui se incluye toda la secuencia de main.py.\n",
    "# tomando los pasos en los que fuiste haciendo todos los calculos\n",
    "# y poniendo cada uno como un subtitulo con markdown de nivel dos, así ## subtitulo de mi paso"
   ]
  },
  {
   "cell_type": "markdown",
   "metadata": {},
   "source": [
    "<br>"
   ]
  },
  {
   "cell_type": "markdown",
   "metadata": {},
   "source": [
    "# <font color= #6B6B6B> <font size = 6> 5. Conclusiones </font>"
   ]
  },
  {
   "cell_type": "markdown",
   "metadata": {},
   "source": [
    "<hr style=\"border:0.02in solid gray\"> </hr>"
   ]
  },
  {
   "cell_type": "markdown",
   "metadata": {},
   "source": []
  },
  {
   "cell_type": "code",
   "execution_count": 3,
   "metadata": {},
   "outputs": [],
   "source": [
    "# en esta seccion es opcional incluir algun codigo para mostrar\n",
    "# visualmente algun concepto o hallazgo relevante como conclusion"
   ]
  }
 ],
 "metadata": {
  "kernelspec": {
   "display_name": "Python 3",
   "language": "python",
   "name": "python3"
  },
  "language_info": {
   "codemirror_mode": {
    "name": "ipython",
    "version": 3
   },
   "file_extension": ".py",
   "mimetype": "text/x-python",
   "name": "python",
   "nbconvert_exporter": "python",
   "pygments_lexer": "ipython3",
   "version": "3.7.9"
  }
 },
 "nbformat": 4,
 "nbformat_minor": 4
}
